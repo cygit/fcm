{
 "cells": [
  {
   "cell_type": "markdown",
   "metadata": {},
   "source": [
    "##### Setup in Google Colab\n",
    "\n",
    "1. Upload the unzipped FCM CLI directory to an accessible location on your Google Drive.\n",
    "2. Navigate to [Google Colab](https://colab.research.google.com/notebooks/intro.ipynb#scrollTo=gJr_9dXGpJ05) and upload this notebook:\n",
    "\n",
    "<img src=\"img/colab_upload.png\" width=\"400\">\n",
    "\n",
    "\n",
    "3. Execute the following blocks of code. Cells can be created by clicking “+ Code” in the notebook interface."
   ]
  },
  {
   "cell_type": "markdown",
   "metadata": {},
   "source": [
    "Mounting your Google Drive prompt you to enter an authorization code. Simply follow the URL, authorize access, and copy and paste the code in the dialog box found in the cell output.\n",
    "\n",
    "<img src=\"img/colab_code.png\" width=\"300\">"
   ]
  },
  {
   "cell_type": "code",
   "execution_count": null,
   "metadata": {
    "colab": {},
    "colab_type": "code",
    "id": "Noq0Ej-ELbi5"
   },
   "outputs": [],
   "source": [
    "#Mounting Google Drive onto virtual environment\n",
    "from google.colab import drive\n",
    "drive.mount('/content/drive')"
   ]
  },
  {
   "cell_type": "markdown",
   "metadata": {},
   "source": [
    "You now have access to your Google Drive directly in Colab on the left-hand panel. Here, you can open files in your directory and conveniently edit grid search parameters or Python scripts for your own dataset on the right-hand panel.\n",
    "\n",
    "![colabui](img/colab8.png)"
   ]
  },
  {
   "cell_type": "code",
   "execution_count": null,
   "metadata": {
    "colab": {},
    "colab_type": "code",
    "collapsed": true,
    "id": "2SXIf6mzv8lg"
   },
   "outputs": [],
   "source": [
    "#The path should be modified based on where the FCM CLI directory resides in your Google Drive.\n",
    "%cd /content/drive/My Drive/fcm_cli/src"
   ]
  },
  {
   "cell_type": "code",
   "execution_count": null,
   "metadata": {
    "colab": {},
    "colab_type": "code",
    "collapsed": true,
    "id": "nbvn1_T6LpFg"
   },
   "outputs": [],
   "source": [
    "pip install --editable ."
   ]
  },
  {
   "cell_type": "markdown",
   "metadata": {},
   "source": [
    "__Each time you open a new session__, you must rerun the cells above to mount your Google Drive onto the virtual environment, navigate to the appropriate directory, and install the necessary packages.\n",
    "\n",
    "Additionally, ensure that your notebook is using a GPU by going to Runtime/Change Runtime Type and selecting 'GPU' as your hardware accelerator.\n",
    "<table><tr>\n",
    "<td> <img src=\"img/colab_runtime.png\" alt=\"Drawing\" style=\"width: 400px;\"/> </td>\n",
    "<td> <img src=\"img/colab_gpu.png\" alt=\"Drawing\" style=\"width: 250px;\"/> </td>\n",
    "</tr></table>"
   ]
  },
  {
   "cell_type": "code",
   "execution_count": null,
   "metadata": {
    "colab": {},
    "colab_type": "code",
    "collapsed": true,
    "id": "T2jWG9R3VNhg"
   },
   "outputs": [],
   "source": [
    "# check GPU settings\n",
    "gpu_info = !nvidia-smi\n",
    "gpu_info = '\\n'.join(gpu_info)\n",
    "if gpu_info.find('failed') >= 0:\n",
    "    raise Exception('GPU is not enabled. Select \"Runtime > \\'Change runtime type\\' \" in the menu to enable a GPU accelerator, and then re-execute this cell.') \n",
    "else:\n",
    "    print(gpu_info)"
   ]
  },
  {
   "cell_type": "markdown",
   "metadata": {
    "colab": {},
    "colab_type": "code",
    "id": "nsPbDdsyMarR"
   },
   "source": [
    "That's it - your FCM CLI notebook is ready to be run on Google Colab!\n",
    "\n",
    "As of May 2020, one known issue we've experienced with Colab is that it cannot handle excessively large datasets (upwards of 2GB). In such cases, you may have to use a subset of data.\n",
    "\n",
    "The following three commands **Train**, **Grid Search**, and **Visualize** require additional parameters to run which are discussed in details in the FCM CLI guide."
   ]
  },
  {
   "cell_type": "code",
   "execution_count": null,
   "metadata": {
    "colab": {},
    "colab_type": "code",
    "collapsed": true,
    "id": "n3TD5HwoTonX"
   },
   "outputs": [],
   "source": [
    "! fcm --help"
   ]
  },
  {
   "cell_type": "code",
   "execution_count": null,
   "metadata": {
    "colab": {},
    "colab_type": "code",
    "collapsed": true,
    "id": "88ZU7lExmlj1"
   },
   "outputs": [],
   "source": [
    "! fcm grid-search ../configs/..."
   ]
  },
  {
   "cell_type": "code",
   "execution_count": null,
   "metadata": {
    "colab": {},
    "colab_type": "code",
    "collapsed": true,
    "id": "wFf2Y9VnAFri"
   },
   "outputs": [],
   "source": [
    "! fcm visualize ..."
   ]
  }
 ],
 "metadata": {
  "accelerator": "GPU",
  "colab": {
   "collapsed_sections": [],
   "machine_shape": "hm",
   "name": "fcm_cli.ipynb",
   "private_outputs": true,
   "provenance": []
  },
  "kernelspec": {
   "display_name": "Python 3",
   "language": "python",
   "name": "python3"
  },
  "language_info": {
   "codemirror_mode": {
    "name": "ipython",
    "version": 3
   },
   "file_extension": ".py",
   "mimetype": "text/x-python",
   "name": "python",
   "nbconvert_exporter": "python",
   "pygments_lexer": "ipython3",
   "version": "3.6.10"
  }
 },
 "nbformat": 4,
 "nbformat_minor": 1
}